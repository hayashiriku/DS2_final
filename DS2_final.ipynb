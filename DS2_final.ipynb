{
 "cells": [
  {
   "cell_type": "code",
   "execution_count": 1,
   "metadata": {},
   "outputs": [
    {
     "name": "stdout",
     "output_type": "stream",
     "text": [
      "/Users/riku/DS2_final\n"
     ]
    }
   ],
   "source": [
    "!pwd"
   ]
  },
  {
   "cell_type": "code",
   "execution_count": 36,
   "metadata": {},
   "outputs": [
    {
     "name": "stdout",
     "output_type": "stream",
     "text": [
      "1: 0.0: 9.4: 50: 5.7\n",
      "2: 0.0: 9.2: 56: 9.6\n",
      "3: 0.0: 9.7: 56: 8.4\n",
      "4: 0.0: 9.9: 48: 9.6\n",
      "5: 0.0: 8.5: 60: 0.0\n",
      "6: 0.0: 11.9: 74: 7.1\n",
      "7: 0.0: 14.7: 52: 9.1\n",
      "8: 0.0: 12.8: 48: 9.3\n",
      "9: 0.0: 13.4: 60: 8.6\n",
      "10: 0.0: 13.6: 64: 9.3\n",
      "11: 1.5: 13.7: 73: 0.4\n",
      "12: 29.0: 12.5: 89: 0.8\n",
      "13: 0.0: 11.9: 47: 9.4\n",
      "14: 0.0: 10.9: 55: 8.0\n",
      "15: 0.0: 12.9: 77: 0.0\n",
      "16: 0.0: 19.3: 67: 5.1\n",
      "17: 0.0: 11.7: 40: 6.5\n",
      "18: 0.0: 7.6: 34: 6.1\n",
      "19: 0.0: 7.6: 50: 3.7\n",
      "20: 0.0: 9.4: 60: 6.1\n",
      "21: 0.0: 7.9: 39: 9.3\n",
      "22: 0.0: 6.0: 35: 9.0\n",
      "23: 0.0: 6.0: 44: 9.2\n",
      "24: 0.0: 5.8: 53: 3.7\n",
      "25: 0.0: 7.5: 55: 9.2\n",
      "26: 0.0: 8.4: 56: 9.5\n",
      "27: 0.0: 8.8: 52: 6.1\n",
      "28: 0.0: 8.1: 53: 4.5\n",
      "29: 0.0: 8.8: 59: 9.3\n",
      "30: 0.0: 9.8: 60: 8.3\n",
      "31: 2.5: 9.6: 76: 3.5\n"
     ]
    }
   ],
   "source": [
    "# 横浜市の１ヶ月の気象情報\n",
    "\n",
    "import requests\n",
    "from bs4 import BeautifulSoup\n",
    "import sqlite3\n",
    "import time\n",
    "\n",
    "db_name = 'weather.sqlite'\n",
    "\n",
    "def strf2loat_z(str):\n",
    "    try:\n",
    "        return float(str)\n",
    "    except:\n",
    "        return 0.0\n",
    "\n",
    "url = \"https://www.data.jma.go.jp/stats/etrn/view/daily_s1.php?prec_no=46&block_no=47670&year=2023&month=12&day=&view=\"\n",
    "\n",
    "r  = requests.get(url)\n",
    "soup = BeautifulSoup(r.text, 'html.parser')\n",
    "rows = soup.find_all('tr', class_='mtx')\n",
    "\n",
    "# 見出しの削除\n",
    "rows = rows[3:]\n",
    "\n",
    "weather_data = []\n",
    "\n",
    "# 気象情報のスクレイピング\n",
    "for row in rows:\n",
    "    items = row.find_all('td')\n",
    "    if len(items) >= 3:\n",
    "        # 日付\n",
    "        date = items[0].text.strip()\n",
    "        # 降水量\n",
    "        rainfall = strf2loat_z(items[3].text.strip())\n",
    "        # 気温\n",
    "        temperature = items[6].text.strip()\n",
    "        # 湿度\n",
    "        humidity = items[9].text.strip()\n",
    "        # 日照時間\n",
    "        sunshine_hours = items[16].text.strip()\n",
    "\n",
    "        weather_data.append((date, rainfall, temperature, humidity, sunshine_hours))\n",
    "time.sleep(0.5)\n",
    "\n",
    "for date, rainfall, temperature, humidity, sunshine_hours in weather_data:\n",
    "   print(f\"{date}: {rainfall}: {temperature}: {humidity}: {sunshine_hours}\")\n",
    "\n",
    "# DBに接続\n",
    "con = sqlite3.connect(db_name)\n",
    "cur = con.cursor()\n",
    "\n",
    "# テーブルの作成\n",
    "cur.execute('''CREATE TABLE IF NOT EXISTS D_weathers(\n",
    "                date TEXT,\n",
    "                rainfall REAL, \n",
    "                temperature REAL, \n",
    "                humidity REAL, \n",
    "                sunshine_hours REAL\n",
    "                )''')\n",
    "\n",
    "# データの挿入\n",
    "sql_insert = '''INSERT INTO D_weathers(\n",
    "                date, rainfall, temperature, humidity, sunshine_hours) \n",
    "                VALUES (?, ?, ?, ?, ?)'''\n",
    "\n",
    "cur.executemany(sql_insert, weather_data)\n",
    "\n",
    "# コミット処理\n",
    "con.commit()\n",
    "\n",
    "# 接続を閉じる\n",
    "con.close()\n",
    "\n"
   ]
  },
  {
   "cell_type": "code",
   "execution_count": 16,
   "metadata": {},
   "outputs": [],
   "source": []
  }
 ],
 "metadata": {
  "kernelspec": {
   "display_name": "Python 3",
   "language": "python",
   "name": "python3"
  },
  "language_info": {
   "codemirror_mode": {
    "name": "ipython",
    "version": 3
   },
   "file_extension": ".py",
   "mimetype": "text/x-python",
   "name": "python",
   "nbconvert_exporter": "python",
   "pygments_lexer": "ipython3",
   "version": "3.9.6"
  }
 },
 "nbformat": 4,
 "nbformat_minor": 2
}
