{
 "cells": [
  {
   "cell_type": "code",
   "execution_count": 1,
   "metadata": {},
   "outputs": [
    {
     "name": "stdout",
     "output_type": "stream",
     "text": [
      "/Users/riku/DS2_final\n"
     ]
    }
   ],
   "source": [
    "!pwd"
   ]
  },
  {
   "cell_type": "code",
   "execution_count": 38,
   "metadata": {},
   "outputs": [
    {
     "ename": "UnboundLocalError",
     "evalue": "local variable 'rainfall' referenced before assignment",
     "output_type": "error",
     "traceback": [
      "\u001b[0;31m---------------------------------------------------------------------------\u001b[0m",
      "\u001b[0;31mUnboundLocalError\u001b[0m                         Traceback (most recent call last)",
      "\u001b[1;32m/Users/riku/DS2_final/DS2_final.ipynb セル 2\u001b[0m line \u001b[0;36m5\n\u001b[1;32m     <a href='vscode-notebook-cell:/Users/riku/DS2_final/DS2_final.ipynb#W1sZmlsZQ%3D%3D?line=53'>54</a>\u001b[0m         \u001b[39mreturn\u001b[39;00m \u001b[39mfloat\u001b[39m\n\u001b[1;32m     <a href='vscode-notebook-cell:/Users/riku/DS2_final/DS2_final.ipynb#W1sZmlsZQ%3D%3D?line=54'>55</a>\u001b[0m     time\u001b[39m.\u001b[39msleep(\u001b[39m0.5\u001b[39m)\n\u001b[0;32m---> <a href='vscode-notebook-cell:/Users/riku/DS2_final/DS2_final.ipynb#W1sZmlsZQ%3D%3D?line=56'>57</a>\u001b[0m     d_weather \u001b[39m=\u001b[39m {   \u001b[39m'\u001b[39m\u001b[39mrainfall\u001b[39m\u001b[39m'\u001b[39m : ra(items),\n\u001b[1;32m     <a href='vscode-notebook-cell:/Users/riku/DS2_final/DS2_final.ipynb#W1sZmlsZQ%3D%3D?line=57'>58</a>\u001b[0m                     \u001b[39m'\u001b[39m\u001b[39mtemperature\u001b[39m\u001b[39m'\u001b[39m : te(items),\n\u001b[1;32m     <a href='vscode-notebook-cell:/Users/riku/DS2_final/DS2_final.ipynb#W1sZmlsZQ%3D%3D?line=58'>59</a>\u001b[0m                     \u001b[39m'\u001b[39m\u001b[39mhumidity\u001b[39m\u001b[39m'\u001b[39m : hu(items),\n\u001b[1;32m     <a href='vscode-notebook-cell:/Users/riku/DS2_final/DS2_final.ipynb#W1sZmlsZQ%3D%3D?line=59'>60</a>\u001b[0m                     \u001b[39m'\u001b[39m\u001b[39msunshine_hours\u001b[39m\u001b[39m'\u001b[39m : su(items)\n\u001b[1;32m     <a href='vscode-notebook-cell:/Users/riku/DS2_final/DS2_final.ipynb#W1sZmlsZQ%3D%3D?line=60'>61</a>\u001b[0m                 }\n\u001b[1;32m     <a href='vscode-notebook-cell:/Users/riku/DS2_final/DS2_final.ipynb#W1sZmlsZQ%3D%3D?line=61'>62</a>\u001b[0m     weather_data\u001b[39m.\u001b[39mappend(d_weather)\n\u001b[1;32m     <a href='vscode-notebook-cell:/Users/riku/DS2_final/DS2_final.ipynb#W1sZmlsZQ%3D%3D?line=63'>64</a>\u001b[0m \u001b[39mprint\u001b[39m(weather_data)\n",
      "\u001b[1;32m/Users/riku/DS2_final/DS2_final.ipynb セル 2\u001b[0m line \u001b[0;36m3\n\u001b[1;32m     <a href='vscode-notebook-cell:/Users/riku/DS2_final/DS2_final.ipynb#W1sZmlsZQ%3D%3D?line=36'>37</a>\u001b[0m \u001b[39mif\u001b[39;00m \u001b[39mlen\u001b[39m(items) \u001b[39m>\u001b[39m\u001b[39m=\u001b[39m \u001b[39m3\u001b[39m:\n\u001b[1;32m     <a href='vscode-notebook-cell:/Users/riku/DS2_final/DS2_final.ipynb#W1sZmlsZQ%3D%3D?line=37'>38</a>\u001b[0m     rainfall \u001b[39m=\u001b[39m items[\u001b[39m3\u001b[39m]\u001b[39m.\u001b[39mtext\u001b[39m.\u001b[39mstrip()\n\u001b[0;32m---> <a href='vscode-notebook-cell:/Users/riku/DS2_final/DS2_final.ipynb#W1sZmlsZQ%3D%3D?line=38'>39</a>\u001b[0m \u001b[39mreturn\u001b[39;00m rainfall(\u001b[39mstr\u001b[39m)\n",
      "\u001b[0;31mUnboundLocalError\u001b[0m: local variable 'rainfall' referenced before assignment"
     ]
    }
   ],
   "source": [
    "# 横浜市の１ヶ月の気象情報\n",
    "\n",
    "import requests\n",
    "from bs4 import BeautifulSoup\n",
    "import sqlite3\n",
    "import time\n",
    "import sys\n",
    "\n",
    "# DBファイルを保存するためのファイルパス\n",
    "#path = '/Users/riku/DS2_final'\n",
    "\n",
    "db_name = 'weather.sqlite'\n",
    "\n",
    "# スクレイピング対象のurl\n",
    "url = \"https://www.data.jma.go.jp/obd/stats/etrn/view/daily_s1.php?prec_no=46&block_no=47670&year=2023&month=1&day=1&view=\"\n",
    "\n",
    "r = requests.get(url)\n",
    "soup = BeautifulSoup(r.text, 'html.parser')\n",
    "rows = soup.find_all('tr', class_='mtx')\n",
    "\n",
    "# 見出しの削除\n",
    "rows = rows[3:]\n",
    "\n",
    "\n",
    "# 日毎の気象データを配列に格納\n",
    "weather_data = []\n",
    "\n",
    "# 月毎に分割\n",
    "for row in rows:\n",
    "    items = row.find_all('td')\n",
    "\n",
    "    # 日付\n",
    "    #if len(items) >= 0:\n",
    "        #date = items[0].text.strip()\n",
    "    # 降水量(mm)\n",
    "    def ra(items):\n",
    "        if len(items) >= 3:\n",
    "            rainfall = items[3].text.strip()\n",
    "        return \n",
    "    # 気温(℃)\n",
    "    def te(items):\n",
    "        if len(items) >= 6:\n",
    "            temperature = items[6].text.strip()\n",
    "        return float\n",
    "    # 湿度(%)\n",
    "    def hu(items):\n",
    "        if len(items) >= 9:\n",
    "            humidity = items[9].text.strip()\n",
    "        return float\n",
    "    # 日照時間(h)\n",
    "    def su(items):\n",
    "        if len(items) >= 16:\n",
    "            sunshine_hours = items[16].text.strip()\n",
    "        return float\n",
    "    time.sleep(0.5)\n",
    "\n",
    "    d_weather = {   'rainfall' : ra(),\n",
    "                    'temperature' : te(items),\n",
    "                    'humidity' : hu(items),\n",
    "                    'sunshine_hours' : su(items)\n",
    "                }\n",
    "    weather_data.append(d_weather)\n",
    "\n",
    "print(weather_data)\n",
    "# DBに接続\n",
    "#con = sqlite3.connect(db_name)\n",
    "#cur = con.cursor()\n",
    "\n",
    "# テーブルの作成\n",
    "#cur.execute('CREATE TABLE D_weathers(rainfall text, temperature text, hunidity text, sunshine_hours text);')\n",
    "# データの挿入\n",
    "#insert_data = \"INSERT INTO D_weathers VALUES (?, ?, ?, ?);\"\n",
    "#cur.executemany(insert_data, weather_data)\n",
    "\n",
    "#cur.execute()\n",
    "\n",
    "#con.close()\n",
    "    \n"
   ]
  },
  {
   "cell_type": "code",
   "execution_count": null,
   "metadata": {},
   "outputs": [],
   "source": []
  }
 ],
 "metadata": {
  "kernelspec": {
   "display_name": "Python 3",
   "language": "python",
   "name": "python3"
  },
  "language_info": {
   "codemirror_mode": {
    "name": "ipython",
    "version": 3
   },
   "file_extension": ".py",
   "mimetype": "text/x-python",
   "name": "python",
   "nbconvert_exporter": "python",
   "pygments_lexer": "ipython3",
   "version": "3.9.6"
  }
 },
 "nbformat": 4,
 "nbformat_minor": 2
}
